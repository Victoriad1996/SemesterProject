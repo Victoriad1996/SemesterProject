{
 "cells": [
  {
   "cell_type": "code",
   "execution_count": 1,
   "metadata": {},
   "outputs": [],
   "source": [
    "import numpy as np\n",
    "import matplotlib.pyplot as plt"
   ]
  },
  {
   "cell_type": "code",
   "execution_count": 2,
   "metadata": {},
   "outputs": [],
   "source": [
    "#Normalize rows of a non-negative matrix\n",
    "def normRows(M):\n",
    "    for row in M:\n",
    "        row /= np.sum(row)\n",
    "    return M\n",
    "\n",
    "# Update excitatory and inhibitory populations of a neuronal rate model\n",
    "def update(xExc, xInh, alpha, noise):\n",
    "    excInpEff = M_EE.dot(xExc)- M_IE.dot(xInh) + np.random.uniform(0, noise, xExc.shape)\n",
    "    inhInpEff = M_EI.dot(xExc) - M_II.dot(xInh) + np.random.uniform(0, noise, xInh.shape)\n",
    "    xExcNew = (1 - alpha) * xExc + alpha * excInpEff\n",
    "    # + alpha * inhInpEff\n",
    "    xInhNew = (1 - alpha) * xInh + alpha * inhInpEff \n",
    "    #+ alpha * excInpEff\n",
    "    return xExcNew, xInhNew\n"
   ]
  },
  {
   "cell_type": "code",
   "execution_count": 3,
   "metadata": {},
   "outputs": [],
   "source": [
    "\n",
    "########################\n",
    "#  Initialization\n",
    "########################\n",
    "\n",
    "nExc = 400   # Number of excitatory neurons\n",
    "nInh = 100   # Number of inhibitory neurons\n",
    "alpha = 0.1  # Neuronal leak rate (alpha = dt / tau)\n",
    "noise = 0.1  # Input noise magnitude\n",
    "\n",
    "# Neuronal population firing rates\n",
    "xExc = np.random.uniform(0, 1, nExc)\n",
    "xInh = np.random.uniform(0, 1, nInh)\n",
    "\n",
    "# Synaptic weights\n",
    "M_EE = normRows(np.random.uniform(0, 1, (nExc, nExc)))\n",
    "M_IE = normRows(np.random.uniform(0, 1, (nExc, nInh)))\n",
    "M_EI = normRows(np.random.uniform(0, 1, (nInh, nExc)))\n",
    "M_II = normRows(np.random.uniform(0, 1, (nInh, nInh)))\n"
   ]
  },
  {
   "cell_type": "code",
   "execution_count": 4,
   "metadata": {},
   "outputs": [],
   "source": [
    "\n",
    "########################\n",
    "#  Run Simulation\n",
    "########################\n",
    "\n",
    "tSteps = 10\n",
    "\n",
    "# We will track the average magnitudes of excitatory and inhibitory populations\n",
    "excMag = np.zeros(tSteps)\n",
    "inhMag = np.zeros(tSteps)\n",
    "excMag[0] = np.linalg.norm(xExc)\n",
    "inhMag[0] = np.linalg.norm(xInh)\n",
    "\n",
    "for t in range(1, tSteps):\n",
    "    xExc, xInh = update(xExc, xInh, alpha, noise)\n",
    "    \n",
    "    excMag[t] = np.linalg.norm(xExc)\n",
    "    inhMag[t] = np.linalg.norm(xInh)\n",
    "    "
   ]
  },
  {
   "cell_type": "code",
   "execution_count": 5,
   "metadata": {},
   "outputs": [
    {
     "data": {
      "image/png": "[encoded data removed]",
      "text/plain": [
       "<Figure size 432x288 with 1 Axes>"
      ]
     },
     "metadata": {
      "needs_background": "light"
     },
     "output_type": "display_data"
    }
   ],
   "source": [
    "\n",
    "########################\n",
    "#  Plotting\n",
    "########################\n",
    "plt.figure()\n",
    "plt.semilogy(excMag, label='exc')\n",
    "plt.semilogy(inhMag, label='inh')\n",
    "plt.legend()\n",
    "plt.show()\n"
   ]
  },
  {
   "cell_type": "code",
   "execution_count": 6,
   "metadata": {},
   "outputs": [
    {
     "ename": "ModuleNotFoundError",
     "evalue": "No module named 'brian2'",
     "output_type": "error",
     "traceback": [
      "\u001b[1;31m---------------------------------------------------------------------------\u001b[0m",
      "\u001b[1;31mModuleNotFoundError\u001b[0m                       Traceback (most recent call last)",
      "\u001b[1;32m<ipython-input-6-e8b133a9e0cf>\u001b[0m in \u001b[0;36m<module>\u001b[1;34m\u001b[0m\n\u001b[1;32m----> 1\u001b[1;33m \u001b[1;32mfrom\u001b[0m \u001b[0mbrian2\u001b[0m \u001b[1;32mimport\u001b[0m\u001b[1;33m*\u001b[0m\u001b[1;33m\u001b[0m\u001b[1;33m\u001b[0m\u001b[0m\n\u001b[0m",
      "\u001b[1;31mModuleNotFoundError\u001b[0m: No module named 'brian2'"
     ]
    }
   ],
   "source": [
    "from brian2 import*"
   ]
  }
 ],
 "metadata": {
  "kernelspec": {
   "display_name": "Python 3",
   "language": "python",
   "name": "python3"
  },
  "language_info": {
   "codemirror_mode": {
    "name": "ipython",
    "version": 3
   },
   "file_extension": ".py",
   "mimetype": "text/x-python",
   "name": "python",
   "nbconvert_exporter": "python",
   "pygments_lexer": "ipython3",
   "version": "3.7.3"
  }
 },
 "nbformat": 4,
 "nbformat_minor": 4
}
